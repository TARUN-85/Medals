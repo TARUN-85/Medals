{
 "cells": [
  {
   "cell_type": "code",
   "execution_count": 1,
   "id": "3b011ddf",
   "metadata": {},
   "outputs": [],
   "source": [
    "import numpy as np"
   ]
  },
  {
   "cell_type": "markdown",
   "id": "28bdd4f2",
   "metadata": {},
   "source": [
    "# IMPORTING OF PANDAS"
   ]
  },
  {
   "cell_type": "markdown",
   "id": "87c241c0",
   "metadata": {},
   "source": [
    "**NOTE :**\n",
    "1. SHIFT + TAB : ITS USED TO GET DESCRIPTION OF PARTCULAR FUNCTION"
   ]
  },
  {
   "cell_type": "code",
   "execution_count": 2,
   "id": "8406398c",
   "metadata": {},
   "outputs": [],
   "source": [
    "import pandas as pd"
   ]
  },
  {
   "cell_type": "markdown",
   "id": "4dec0b27",
   "metadata": {},
   "source": [
    "#### 1.CREATING A DATAFRAME"
   ]
  },
  {
   "cell_type": "code",
   "execution_count": 3,
   "id": "505cee74",
   "metadata": {},
   "outputs": [
    {
     "name": "stdout",
     "output_type": "stream",
     "text": [
      "    0   1   2\n",
      "0   1   2   3\n",
      "1   4   5   6\n",
      "2   7   8   9\n",
      "3  10  11  12\n",
      "4  13  14  15\n",
      "5  16  17  18\n",
      "\n",
      "   0  1  2\n",
      "0  1  2  3\n",
      "1  4  5  6\n",
      "2  7  8  9\n",
      "\n",
      "    0   1   2\n",
      "3  10  11  12\n",
      "4  13  14  15\n",
      "5  16  17  18\n"
     ]
    }
   ],
   "source": [
    "#creating of data frame(df):\n",
    "df = pd.DataFrame(([1,2,3],[4,5,6],[7,8,9],[10,11,12],[13,14,15],[16,17,18]))\n",
    "print(df)\n",
    "print()\n",
    "\n",
    "#df.head(n): it will print 1st n value from df\n",
    "#default value of n==5\n",
    "print(df.head(3))\n",
    "print()\n",
    "\n",
    "#df.tail(n): it'll print last n value from df\n",
    "#default value of n==5\n",
    "print(df.tail(3))"
   ]
  },
  {
   "cell_type": "markdown",
   "id": "77b6e450",
   "metadata": {},
   "source": [
    "#### 2.ADDING COLUMN_NAME/ COLUMN_LABEL"
   ]
  },
  {
   "cell_type": "code",
   "execution_count": 4,
   "id": "b3f7b6e6",
   "metadata": {},
   "outputs": [
    {
     "name": "stdout",
     "output_type": "stream",
     "text": [
      "     0    1    2\n",
      "0   10   20   30\n",
      "1   40   50   60\n",
      "2   70   80   90\n",
      "3  100  110  120\n",
      "4  130  140  150\n",
      "\n",
      "    A   B   C\n",
      "0   1   2   3\n",
      "1   4   5   6\n",
      "2   7   8   9\n",
      "3  10  11  12\n",
      "4  13  14  15\n",
      "\n"
     ]
    }
   ],
   "source": [
    "#creating of data frame(df):\n",
    "#syntax: pd.DataFrame(list)\n",
    "df2 = pd.DataFrame(np.arange(1,16).reshape(5,3))\n",
    "print(df2*10)\n",
    "print()\n",
    "\n",
    "#adding column heading:\n",
    "#syntax: pd.DataFrame(list,columns=[column_name_list])\n",
    "df1 = pd.DataFrame(np.arange(1,16).reshape(5,3),columns=[\"A\",'B','C'])\n",
    "print(df1)\n",
    "print()"
   ]
  },
  {
   "cell_type": "markdown",
   "id": "95cd32cd",
   "metadata": {},
   "source": [
    "**NOTE:**\n",
    "\n",
    "1. EXPLICIT INDEX: THE INDEX WHICH ARE VISIBLE & WE CAN ACCESS IT BY USING THEM.(eg. column_label {'A','B','C'},row_label{0,1,2,3,4}\n",
    "\n",
    "\n",
    "\n",
    "2. IMPLICIT INDEX : THE INDEX WHICH ARE NOT VISIBLE BUT THEN TO WE CAN ACCESS THEM BY THEIR POSITION.(eg. in python list,tuple,string,etc.. we can access using index number ranges from '0-N' )\n",
    " "
   ]
  },
  {
   "cell_type": "markdown",
   "id": "9a19d639",
   "metadata": {},
   "source": [
    "#### 3.SHAPE OF DATAFRAME"
   ]
  },
  {
   "cell_type": "code",
   "execution_count": 5,
   "id": "3adc44a6",
   "metadata": {},
   "outputs": [
    {
     "data": {
      "text/plain": [
       "(5, 3)"
      ]
     },
     "execution_count": 5,
     "metadata": {},
     "output_type": "execute_result"
    }
   ],
   "source": [
    "#DF_NAME.SHAPE(): it will return a tuple with shapes/dimension of data_table\n",
    "df1.shape"
   ]
  },
  {
   "cell_type": "markdown",
   "id": "c922e75f",
   "metadata": {},
   "source": [
    "#### 4.ILOC()"
   ]
  },
  {
   "cell_type": "code",
   "execution_count": 6,
   "id": "7d0cb865",
   "metadata": {},
   "outputs": [
    {
     "name": "stdout",
     "output_type": "stream",
     "text": [
      "    0   1   2\n",
      "0   1   2   3\n",
      "1   4   5   6\n",
      "2   7   8   9\n",
      "3  10  11  12\n",
      "4  13  14  15\n",
      "\n",
      "ACCESSING 11:   11\n"
     ]
    }
   ],
   "source": [
    "print(df2)\n",
    "print()\n",
    "\n",
    "#DF_NAME.ILOC(ROW_NO,COL_NO):ITS USED TO ACCESS USING INDEX NO\n",
    "#accesing value = 11 in df1\n",
    "print('ACCESSING 11:  ',df2.iloc[3,1])"
   ]
  },
  {
   "cell_type": "markdown",
   "id": "28520b02",
   "metadata": {},
   "source": [
    "#### 5.CONCATINATION "
   ]
  },
  {
   "cell_type": "code",
   "execution_count": 7,
   "id": "8fe2dbfe",
   "metadata": {},
   "outputs": [
    {
     "name": "stdout",
     "output_type": "stream",
     "text": [
      "    A   B\n",
      "0  10  12\n",
      "1  11  13\n",
      "2  12  14\n",
      "\n",
      "    A   D\n",
      "0  10  12\n",
      "1  11  13\n",
      "2  12  14\n",
      "\n",
      "    A     B     D\n",
      "0  10  12.0   NaN\n",
      "1  11  13.0   NaN\n",
      "2  12  14.0   NaN\n",
      "0  10   NaN  12.0\n",
      "1  11   NaN  13.0\n",
      "2  12   NaN  14.0\n",
      "\n",
      "    A     B     D\n",
      "0  10  12.0   NaN\n",
      "1  11  13.0   NaN\n",
      "2  12  14.0   NaN\n",
      "0  10   NaN  12.0\n",
      "1  11   NaN  13.0\n",
      "2  12   NaN  14.0\n",
      "\n",
      "    A   B   A   D\n",
      "0  10  12  10  12\n",
      "1  11  13  11  13\n",
      "2  12  14  12  14\n",
      "\n",
      "      A     B     D\n",
      "b 0  10  12.0   NaN\n",
      "  1  11  13.0   NaN\n",
      "  2  12  14.0   NaN\n",
      "a 0  10   NaN  12.0\n",
      "  1  11   NaN  13.0\n",
      "  2  12   NaN  14.0\n"
     ]
    }
   ],
   "source": [
    "A1 = pd.DataFrame({'A':[10,11,12],'B':[12,13,14]})\n",
    "A2 = pd.DataFrame({'A':[10,11,12],'D':[12,13,14]})\n",
    "print(A1,A2,sep='\\n\\n')\n",
    "print()\n",
    "\n",
    "#pd.concate(df's):it will concatinate the two or more df along the mention axis\n",
    "#bydefault axis=0\n",
    "A_default = pd.concat((A1,A2))\n",
    "print(A_default)\n",
    "print()\n",
    "\n",
    "#concatination along axis=0\n",
    "A_axis0 = pd.concat((A1,A2),axis=0)\n",
    "print(A_axis0)\n",
    "print()\n",
    "\n",
    "#concatination along axis=1\n",
    "A_axis1 = pd.concat((A1,A2),axis=1)\n",
    "print(A_axis1)\n",
    "print()\n",
    "\n",
    "#modified key concatination\n",
    "A_modified = pd.concat((A1,A2),keys={'a','b'})\n",
    "print(A_modified)\n"
   ]
  },
  {
   "cell_type": "markdown",
   "id": "bab0e37e",
   "metadata": {},
   "source": [
    "#### 6.INNER JOIN VS OUTER JOIN"
   ]
  },
  {
   "cell_type": "code",
   "execution_count": 8,
   "id": "0b6396d6",
   "metadata": {},
   "outputs": [
    {
     "name": "stdout",
     "output_type": "stream",
     "text": [
      "    A   B\n",
      "0  10  12\n",
      "1  11  13\n",
      "2  12  14\n",
      "\n",
      "    A   D\n",
      "0  10  12\n",
      "1  11  13\n",
      "2  12  14\n",
      "\n",
      "    A\n",
      "0  10\n",
      "1  11\n",
      "2  12\n",
      "0  10\n",
      "1  11\n",
      "2  12\n",
      "\n",
      "    A     B     D\n",
      "0  10  12.0   NaN\n",
      "1  11  13.0   NaN\n",
      "2  12  14.0   NaN\n",
      "0  10   NaN  12.0\n",
      "1  11   NaN  13.0\n",
      "2  12   NaN  14.0\n",
      "\n"
     ]
    }
   ],
   "source": [
    "print(A1,A2,sep='\\n\\n')\n",
    "print()\n",
    "\n",
    "#INNERJOIN or INNERCONCATINATION:it will join such that it will return intersection of two df on a given axis\n",
    "A_INNER_JT = pd.concat([A1,A2],axis=0,join='inner')\n",
    "print(A_INNER_JT)\n",
    "print()\n",
    "\n",
    "#OUTERJOIN or OUTERCONCATINATION:it will join such that it will return JOINING of two df along mention axis\n",
    "A_INNER_JT = pd.concat([A1,A2],axis=0,join='outer')\n",
    "print(A_INNER_JT)\n",
    "print()\n"
   ]
  },
  {
   "cell_type": "markdown",
   "id": "a1c913bb",
   "metadata": {},
   "source": [
    "# WORKING WITH CSV FILE"
   ]
  },
  {
   "cell_type": "markdown",
   "id": "7e918c45",
   "metadata": {},
   "source": [
    "#### 1.READING OF CSV FILE"
   ]
  },
  {
   "cell_type": "code",
   "execution_count": 9,
   "id": "4054e217",
   "metadata": {},
   "outputs": [
    {
     "data": {
      "text/html": [
       "<div>\n",
       "<style scoped>\n",
       "    .dataframe tbody tr th:only-of-type {\n",
       "        vertical-align: middle;\n",
       "    }\n",
       "\n",
       "    .dataframe tbody tr th {\n",
       "        vertical-align: top;\n",
       "    }\n",
       "\n",
       "    .dataframe thead th {\n",
       "        text-align: right;\n",
       "    }\n",
       "</style>\n",
       "<table border=\"1\" class=\"dataframe\">\n",
       "  <thead>\n",
       "    <tr style=\"text-align: right;\">\n",
       "      <th></th>\n",
       "      <th>Rank</th>\n",
       "      <th>Country</th>\n",
       "      <th>Gold</th>\n",
       "      <th>Silver</th>\n",
       "      <th>Bronze</th>\n",
       "      <th>Total</th>\n",
       "    </tr>\n",
       "  </thead>\n",
       "  <tbody>\n",
       "    <tr>\n",
       "      <th>0</th>\n",
       "      <td>1</td>\n",
       "      <td>United States</td>\n",
       "      <td>39</td>\n",
       "      <td>41</td>\n",
       "      <td>33</td>\n",
       "      <td>113</td>\n",
       "    </tr>\n",
       "    <tr>\n",
       "      <th>1</th>\n",
       "      <td>2</td>\n",
       "      <td>China</td>\n",
       "      <td>38</td>\n",
       "      <td>32</td>\n",
       "      <td>18</td>\n",
       "      <td>88</td>\n",
       "    </tr>\n",
       "    <tr>\n",
       "      <th>2</th>\n",
       "      <td>3</td>\n",
       "      <td>Japan</td>\n",
       "      <td>27</td>\n",
       "      <td>14</td>\n",
       "      <td>17</td>\n",
       "      <td>58</td>\n",
       "    </tr>\n",
       "    <tr>\n",
       "      <th>3</th>\n",
       "      <td>4</td>\n",
       "      <td>Great Britain</td>\n",
       "      <td>22</td>\n",
       "      <td>21</td>\n",
       "      <td>22</td>\n",
       "      <td>65</td>\n",
       "    </tr>\n",
       "    <tr>\n",
       "      <th>4</th>\n",
       "      <td>5</td>\n",
       "      <td>ROC</td>\n",
       "      <td>20</td>\n",
       "      <td>28</td>\n",
       "      <td>23</td>\n",
       "      <td>71</td>\n",
       "    </tr>\n",
       "    <tr>\n",
       "      <th>...</th>\n",
       "      <td>...</td>\n",
       "      <td>...</td>\n",
       "      <td>...</td>\n",
       "      <td>...</td>\n",
       "      <td>...</td>\n",
       "      <td>...</td>\n",
       "    </tr>\n",
       "    <tr>\n",
       "      <th>88</th>\n",
       "      <td>86</td>\n",
       "      <td>Ghana</td>\n",
       "      <td>0</td>\n",
       "      <td>0</td>\n",
       "      <td>1</td>\n",
       "      <td>1</td>\n",
       "    </tr>\n",
       "    <tr>\n",
       "      <th>89</th>\n",
       "      <td>86</td>\n",
       "      <td>Grenada</td>\n",
       "      <td>0</td>\n",
       "      <td>0</td>\n",
       "      <td>1</td>\n",
       "      <td>1</td>\n",
       "    </tr>\n",
       "    <tr>\n",
       "      <th>90</th>\n",
       "      <td>86</td>\n",
       "      <td>Kuwait</td>\n",
       "      <td>0</td>\n",
       "      <td>0</td>\n",
       "      <td>1</td>\n",
       "      <td>1</td>\n",
       "    </tr>\n",
       "    <tr>\n",
       "      <th>91</th>\n",
       "      <td>86</td>\n",
       "      <td>Moldova</td>\n",
       "      <td>0</td>\n",
       "      <td>0</td>\n",
       "      <td>1</td>\n",
       "      <td>1</td>\n",
       "    </tr>\n",
       "    <tr>\n",
       "      <th>92</th>\n",
       "      <td>86</td>\n",
       "      <td>Syria</td>\n",
       "      <td>0</td>\n",
       "      <td>0</td>\n",
       "      <td>1</td>\n",
       "      <td>1</td>\n",
       "    </tr>\n",
       "  </tbody>\n",
       "</table>\n",
       "<p>93 rows × 6 columns</p>\n",
       "</div>"
      ],
      "text/plain": [
       "    Rank        Country  Gold  Silver  Bronze  Total\n",
       "0      1  United States    39      41      33    113\n",
       "1      2          China    38      32      18     88\n",
       "2      3          Japan    27      14      17     58\n",
       "3      4  Great Britain    22      21      22     65\n",
       "4      5            ROC    20      28      23     71\n",
       "..   ...            ...   ...     ...     ...    ...\n",
       "88    86          Ghana     0       0       1      1\n",
       "89    86        Grenada     0       0       1      1\n",
       "90    86         Kuwait     0       0       1      1\n",
       "91    86        Moldova     0       0       1      1\n",
       "92    86          Syria     0       0       1      1\n",
       "\n",
       "[93 rows x 6 columns]"
      ]
     },
     "execution_count": 9,
     "metadata": {},
     "output_type": "execute_result"
    }
   ],
   "source": [
    "#pd.read_csv('filename.csv'):loading of csv_file in pandas\n",
    "df = pd.read_csv('Medals.csv')\n",
    "df"
   ]
  },
  {
   "cell_type": "markdown",
   "id": "bd743343",
   "metadata": {},
   "source": [
    "#### 2.TYPE OF DATA-FRAME"
   ]
  },
  {
   "cell_type": "code",
   "execution_count": 10,
   "id": "36e604bd",
   "metadata": {},
   "outputs": [
    {
     "name": "stdout",
     "output_type": "stream",
     "text": [
      "<class 'pandas.core.frame.DataFrame'>\n"
     ]
    }
   ],
   "source": [
    "# type of a given dataframe df\n",
    "print(type(df))"
   ]
  },
  {
   "cell_type": "markdown",
   "id": "1c42e925",
   "metadata": {},
   "source": [
    "#### 3.ACCESSING VALUE IN DATA FRAME"
   ]
  },
  {
   "cell_type": "code",
   "execution_count": 11,
   "id": "deb94be9",
   "metadata": {},
   "outputs": [
    {
     "name": "stdout",
     "output_type": "stream",
     "text": [
      "          Country  Rank\n",
      "0   United States     1\n",
      "1           China     2\n",
      "2           Japan     3\n",
      "3   Great Britain     4\n",
      "4             ROC     5\n",
      "..            ...   ...\n",
      "88          Ghana    86\n",
      "89        Grenada    86\n",
      "90         Kuwait    86\n",
      "91        Moldova    86\n",
      "92          Syria    86\n",
      "\n",
      "[93 rows x 2 columns]\n",
      "\n",
      "0     United States\n",
      "1             China\n",
      "2             Japan\n",
      "3     Great Britain\n",
      "4               ROC\n",
      "          ...      \n",
      "88            Ghana\n",
      "89          Grenada\n",
      "90           Kuwait\n",
      "91          Moldova\n",
      "92            Syria\n",
      "Name: Country, Length: 93, dtype: object\n",
      "\n",
      "True\n"
     ]
    }
   ],
   "source": [
    "#its a specialize dictionary in which we can access any column\n",
    "#we can access multiple value in table\n",
    "#to access multiple value we have to pass a list of column name\n",
    "print(df[['Country','Rank']])\n",
    "print()\n",
    "\n",
    "#df.column_name : we can also access req column name like this also\n",
    "#avoid this method as there may be a chance that your con name clashes with panda builtin funcn\n",
    "print(df.Country)\n",
    "print()\n",
    "\n",
    "print(df.Country is df['Country'])"
   ]
  },
  {
   "cell_type": "markdown",
   "id": "243d5b4f",
   "metadata": {},
   "source": [
    "#### 4. SERIES & DATA-FRAME DIFFERENCE"
   ]
  },
  {
   "cell_type": "code",
   "execution_count": 12,
   "id": "27332f69",
   "metadata": {},
   "outputs": [
    {
     "name": "stdout",
     "output_type": "stream",
     "text": [
      "<class 'pandas.core.series.Series'>\n",
      "<class 'pandas.core.frame.DataFrame'>\n"
     ]
    }
   ],
   "source": [
    "#'pandas.core.series.Series': 1-d is generally refered as series\n",
    "#'pandas.core.frame.DataFrame' : more than 1_d is refered as Data_Frame or matrix\n",
    "a = df['Rank']\n",
    "b = df[['Gold','Silver','Bronze']]\n",
    "print(type(a),type(b),sep='\\n')"
   ]
  },
  {
   "cell_type": "markdown",
   "id": "a60e8165",
   "metadata": {},
   "source": [
    "#### 5.PRINTING 1ST 'N' LINES USING HEAD()"
   ]
  },
  {
   "cell_type": "code",
   "execution_count": 13,
   "id": "0b8618e6",
   "metadata": {},
   "outputs": [
    {
     "data": {
      "text/html": [
       "<div>\n",
       "<style scoped>\n",
       "    .dataframe tbody tr th:only-of-type {\n",
       "        vertical-align: middle;\n",
       "    }\n",
       "\n",
       "    .dataframe tbody tr th {\n",
       "        vertical-align: top;\n",
       "    }\n",
       "\n",
       "    .dataframe thead th {\n",
       "        text-align: right;\n",
       "    }\n",
       "</style>\n",
       "<table border=\"1\" class=\"dataframe\">\n",
       "  <thead>\n",
       "    <tr style=\"text-align: right;\">\n",
       "      <th></th>\n",
       "      <th>Rank</th>\n",
       "      <th>Country</th>\n",
       "      <th>Gold</th>\n",
       "      <th>Silver</th>\n",
       "      <th>Bronze</th>\n",
       "      <th>Total</th>\n",
       "    </tr>\n",
       "  </thead>\n",
       "  <tbody>\n",
       "    <tr>\n",
       "      <th>0</th>\n",
       "      <td>1</td>\n",
       "      <td>United States</td>\n",
       "      <td>39</td>\n",
       "      <td>41</td>\n",
       "      <td>33</td>\n",
       "      <td>113</td>\n",
       "    </tr>\n",
       "    <tr>\n",
       "      <th>1</th>\n",
       "      <td>2</td>\n",
       "      <td>China</td>\n",
       "      <td>38</td>\n",
       "      <td>32</td>\n",
       "      <td>18</td>\n",
       "      <td>88</td>\n",
       "    </tr>\n",
       "    <tr>\n",
       "      <th>2</th>\n",
       "      <td>3</td>\n",
       "      <td>Japan</td>\n",
       "      <td>27</td>\n",
       "      <td>14</td>\n",
       "      <td>17</td>\n",
       "      <td>58</td>\n",
       "    </tr>\n",
       "    <tr>\n",
       "      <th>3</th>\n",
       "      <td>4</td>\n",
       "      <td>Great Britain</td>\n",
       "      <td>22</td>\n",
       "      <td>21</td>\n",
       "      <td>22</td>\n",
       "      <td>65</td>\n",
       "    </tr>\n",
       "    <tr>\n",
       "      <th>4</th>\n",
       "      <td>5</td>\n",
       "      <td>ROC</td>\n",
       "      <td>20</td>\n",
       "      <td>28</td>\n",
       "      <td>23</td>\n",
       "      <td>71</td>\n",
       "    </tr>\n",
       "    <tr>\n",
       "      <th>5</th>\n",
       "      <td>6</td>\n",
       "      <td>Australia</td>\n",
       "      <td>17</td>\n",
       "      <td>7</td>\n",
       "      <td>22</td>\n",
       "      <td>46</td>\n",
       "    </tr>\n",
       "    <tr>\n",
       "      <th>6</th>\n",
       "      <td>7</td>\n",
       "      <td>Netherlands</td>\n",
       "      <td>10</td>\n",
       "      <td>12</td>\n",
       "      <td>14</td>\n",
       "      <td>36</td>\n",
       "    </tr>\n",
       "    <tr>\n",
       "      <th>7</th>\n",
       "      <td>8</td>\n",
       "      <td>France</td>\n",
       "      <td>10</td>\n",
       "      <td>12</td>\n",
       "      <td>11</td>\n",
       "      <td>33</td>\n",
       "    </tr>\n",
       "    <tr>\n",
       "      <th>8</th>\n",
       "      <td>9</td>\n",
       "      <td>Germany</td>\n",
       "      <td>10</td>\n",
       "      <td>11</td>\n",
       "      <td>16</td>\n",
       "      <td>37</td>\n",
       "    </tr>\n",
       "    <tr>\n",
       "      <th>9</th>\n",
       "      <td>10</td>\n",
       "      <td>Italy</td>\n",
       "      <td>10</td>\n",
       "      <td>10</td>\n",
       "      <td>20</td>\n",
       "      <td>40</td>\n",
       "    </tr>\n",
       "  </tbody>\n",
       "</table>\n",
       "</div>"
      ],
      "text/plain": [
       "   Rank        Country  Gold  Silver  Bronze  Total\n",
       "0     1  United States    39      41      33    113\n",
       "1     2          China    38      32      18     88\n",
       "2     3          Japan    27      14      17     58\n",
       "3     4  Great Britain    22      21      22     65\n",
       "4     5            ROC    20      28      23     71\n",
       "5     6      Australia    17       7      22     46\n",
       "6     7    Netherlands    10      12      14     36\n",
       "7     8         France    10      12      11     33\n",
       "8     9        Germany    10      11      16     37\n",
       "9    10          Italy    10      10      20     40"
      ]
     },
     "execution_count": 13,
     "metadata": {},
     "output_type": "execute_result"
    }
   ],
   "source": [
    "#df.head(n) : printing the required first 'n' value\n",
    "#by default n == 5\n",
    "df.head(10)"
   ]
  },
  {
   "cell_type": "markdown",
   "id": "f1612e98",
   "metadata": {},
   "source": [
    "#### 6.PRINTING LAST 'N' LINES USING TAIL()"
   ]
  },
  {
   "cell_type": "code",
   "execution_count": 14,
   "id": "571ef027",
   "metadata": {},
   "outputs": [
    {
     "data": {
      "text/html": [
       "<div>\n",
       "<style scoped>\n",
       "    .dataframe tbody tr th:only-of-type {\n",
       "        vertical-align: middle;\n",
       "    }\n",
       "\n",
       "    .dataframe tbody tr th {\n",
       "        vertical-align: top;\n",
       "    }\n",
       "\n",
       "    .dataframe thead th {\n",
       "        text-align: right;\n",
       "    }\n",
       "</style>\n",
       "<table border=\"1\" class=\"dataframe\">\n",
       "  <thead>\n",
       "    <tr style=\"text-align: right;\">\n",
       "      <th></th>\n",
       "      <th>Rank</th>\n",
       "      <th>Country</th>\n",
       "      <th>Gold</th>\n",
       "      <th>Silver</th>\n",
       "      <th>Bronze</th>\n",
       "      <th>Total</th>\n",
       "    </tr>\n",
       "  </thead>\n",
       "  <tbody>\n",
       "    <tr>\n",
       "      <th>83</th>\n",
       "      <td>84</td>\n",
       "      <td>Mexico</td>\n",
       "      <td>0</td>\n",
       "      <td>0</td>\n",
       "      <td>4</td>\n",
       "      <td>4</td>\n",
       "    </tr>\n",
       "    <tr>\n",
       "      <th>84</th>\n",
       "      <td>85</td>\n",
       "      <td>Finland</td>\n",
       "      <td>0</td>\n",
       "      <td>0</td>\n",
       "      <td>2</td>\n",
       "      <td>2</td>\n",
       "    </tr>\n",
       "    <tr>\n",
       "      <th>85</th>\n",
       "      <td>86</td>\n",
       "      <td>Botswana</td>\n",
       "      <td>0</td>\n",
       "      <td>0</td>\n",
       "      <td>1</td>\n",
       "      <td>1</td>\n",
       "    </tr>\n",
       "    <tr>\n",
       "      <th>86</th>\n",
       "      <td>86</td>\n",
       "      <td>Burkina Faso</td>\n",
       "      <td>0</td>\n",
       "      <td>0</td>\n",
       "      <td>1</td>\n",
       "      <td>1</td>\n",
       "    </tr>\n",
       "    <tr>\n",
       "      <th>87</th>\n",
       "      <td>86</td>\n",
       "      <td>Côte d'Ivoire</td>\n",
       "      <td>0</td>\n",
       "      <td>0</td>\n",
       "      <td>1</td>\n",
       "      <td>1</td>\n",
       "    </tr>\n",
       "    <tr>\n",
       "      <th>88</th>\n",
       "      <td>86</td>\n",
       "      <td>Ghana</td>\n",
       "      <td>0</td>\n",
       "      <td>0</td>\n",
       "      <td>1</td>\n",
       "      <td>1</td>\n",
       "    </tr>\n",
       "    <tr>\n",
       "      <th>89</th>\n",
       "      <td>86</td>\n",
       "      <td>Grenada</td>\n",
       "      <td>0</td>\n",
       "      <td>0</td>\n",
       "      <td>1</td>\n",
       "      <td>1</td>\n",
       "    </tr>\n",
       "    <tr>\n",
       "      <th>90</th>\n",
       "      <td>86</td>\n",
       "      <td>Kuwait</td>\n",
       "      <td>0</td>\n",
       "      <td>0</td>\n",
       "      <td>1</td>\n",
       "      <td>1</td>\n",
       "    </tr>\n",
       "    <tr>\n",
       "      <th>91</th>\n",
       "      <td>86</td>\n",
       "      <td>Moldova</td>\n",
       "      <td>0</td>\n",
       "      <td>0</td>\n",
       "      <td>1</td>\n",
       "      <td>1</td>\n",
       "    </tr>\n",
       "    <tr>\n",
       "      <th>92</th>\n",
       "      <td>86</td>\n",
       "      <td>Syria</td>\n",
       "      <td>0</td>\n",
       "      <td>0</td>\n",
       "      <td>1</td>\n",
       "      <td>1</td>\n",
       "    </tr>\n",
       "  </tbody>\n",
       "</table>\n",
       "</div>"
      ],
      "text/plain": [
       "    Rank        Country  Gold  Silver  Bronze  Total\n",
       "83    84         Mexico     0       0       4      4\n",
       "84    85        Finland     0       0       2      2\n",
       "85    86       Botswana     0       0       1      1\n",
       "86    86   Burkina Faso     0       0       1      1\n",
       "87    86  Côte d'Ivoire     0       0       1      1\n",
       "88    86          Ghana     0       0       1      1\n",
       "89    86        Grenada     0       0       1      1\n",
       "90    86         Kuwait     0       0       1      1\n",
       "91    86        Moldova     0       0       1      1\n",
       "92    86          Syria     0       0       1      1"
      ]
     },
     "execution_count": 14,
     "metadata": {},
     "output_type": "execute_result"
    }
   ],
   "source": [
    "#df.tail(n) : printing the required last 'n' value\n",
    "#by default n == 5\n",
    "df.tail(10)"
   ]
  },
  {
   "cell_type": "markdown",
   "id": "79b11c9b",
   "metadata": {},
   "source": [
    "#### 7.PRINTING SHORT INFORMATION ABOUT DATA"
   ]
  },
  {
   "cell_type": "code",
   "execution_count": 15,
   "id": "3ba5c8c7",
   "metadata": {},
   "outputs": [
    {
     "name": "stdout",
     "output_type": "stream",
     "text": [
      "<class 'pandas.core.frame.DataFrame'>\n",
      "RangeIndex: 93 entries, 0 to 92\n",
      "Data columns (total 6 columns):\n",
      " #   Column   Non-Null Count  Dtype \n",
      "---  ------   --------------  ----- \n",
      " 0   Rank     93 non-null     int64 \n",
      " 1   Country  93 non-null     object\n",
      " 2   Gold     93 non-null     int64 \n",
      " 3   Silver   93 non-null     int64 \n",
      " 4   Bronze   93 non-null     int64 \n",
      " 5   Total    93 non-null     int64 \n",
      "dtypes: int64(5), object(1)\n",
      "memory usage: 4.5+ KB\n"
     ]
    }
   ],
   "source": [
    "#df.info() : it will provide short information about the data_frame\n",
    "df.info()"
   ]
  },
  {
   "cell_type": "markdown",
   "id": "38f3af5c",
   "metadata": {},
   "source": [
    "**Notes:**\n",
    "1. if data-type is unable to recognized its return as object\n",
    "2. if there is missing value than non-null will be changed to null\n",
    "3. RangeIndex: 93 entries, 0 to 92: it tells about no of rows in data-frame\n",
    "\n"
   ]
  },
  {
   "cell_type": "markdown",
   "id": "d647873e",
   "metadata": {},
   "source": [
    "#### 8.STATISTICAL DISCRIPTION OF DATA"
   ]
  },
  {
   "cell_type": "code",
   "execution_count": 16,
   "id": "ba00979d",
   "metadata": {},
   "outputs": [
    {
     "data": {
      "text/html": [
       "<div>\n",
       "<style scoped>\n",
       "    .dataframe tbody tr th:only-of-type {\n",
       "        vertical-align: middle;\n",
       "    }\n",
       "\n",
       "    .dataframe tbody tr th {\n",
       "        vertical-align: top;\n",
       "    }\n",
       "\n",
       "    .dataframe thead th {\n",
       "        text-align: right;\n",
       "    }\n",
       "</style>\n",
       "<table border=\"1\" class=\"dataframe\">\n",
       "  <thead>\n",
       "    <tr style=\"text-align: right;\">\n",
       "      <th></th>\n",
       "      <th>Rank</th>\n",
       "      <th>Gold</th>\n",
       "      <th>Silver</th>\n",
       "      <th>Bronze</th>\n",
       "      <th>Total</th>\n",
       "    </tr>\n",
       "  </thead>\n",
       "  <tbody>\n",
       "    <tr>\n",
       "      <th>count</th>\n",
       "      <td>93.000000</td>\n",
       "      <td>93.000000</td>\n",
       "      <td>93.000000</td>\n",
       "      <td>93.000000</td>\n",
       "      <td>93.000000</td>\n",
       "    </tr>\n",
       "    <tr>\n",
       "      <th>mean</th>\n",
       "      <td>46.333333</td>\n",
       "      <td>3.655914</td>\n",
       "      <td>3.634409</td>\n",
       "      <td>4.322581</td>\n",
       "      <td>11.612903</td>\n",
       "    </tr>\n",
       "    <tr>\n",
       "      <th>std</th>\n",
       "      <td>26.219116</td>\n",
       "      <td>7.022471</td>\n",
       "      <td>6.626339</td>\n",
       "      <td>6.210372</td>\n",
       "      <td>19.091332</td>\n",
       "    </tr>\n",
       "    <tr>\n",
       "      <th>min</th>\n",
       "      <td>1.000000</td>\n",
       "      <td>0.000000</td>\n",
       "      <td>0.000000</td>\n",
       "      <td>0.000000</td>\n",
       "      <td>1.000000</td>\n",
       "    </tr>\n",
       "    <tr>\n",
       "      <th>25%</th>\n",
       "      <td>24.000000</td>\n",
       "      <td>0.000000</td>\n",
       "      <td>0.000000</td>\n",
       "      <td>1.000000</td>\n",
       "      <td>2.000000</td>\n",
       "    </tr>\n",
       "    <tr>\n",
       "      <th>50%</th>\n",
       "      <td>46.000000</td>\n",
       "      <td>1.000000</td>\n",
       "      <td>1.000000</td>\n",
       "      <td>2.000000</td>\n",
       "      <td>4.000000</td>\n",
       "    </tr>\n",
       "    <tr>\n",
       "      <th>75%</th>\n",
       "      <td>70.000000</td>\n",
       "      <td>3.000000</td>\n",
       "      <td>4.000000</td>\n",
       "      <td>5.000000</td>\n",
       "      <td>11.000000</td>\n",
       "    </tr>\n",
       "    <tr>\n",
       "      <th>max</th>\n",
       "      <td>86.000000</td>\n",
       "      <td>39.000000</td>\n",
       "      <td>41.000000</td>\n",
       "      <td>33.000000</td>\n",
       "      <td>113.000000</td>\n",
       "    </tr>\n",
       "  </tbody>\n",
       "</table>\n",
       "</div>"
      ],
      "text/plain": [
       "            Rank       Gold     Silver     Bronze       Total\n",
       "count  93.000000  93.000000  93.000000  93.000000   93.000000\n",
       "mean   46.333333   3.655914   3.634409   4.322581   11.612903\n",
       "std    26.219116   7.022471   6.626339   6.210372   19.091332\n",
       "min     1.000000   0.000000   0.000000   0.000000    1.000000\n",
       "25%    24.000000   0.000000   0.000000   1.000000    2.000000\n",
       "50%    46.000000   1.000000   1.000000   2.000000    4.000000\n",
       "75%    70.000000   3.000000   4.000000   5.000000   11.000000\n",
       "max    86.000000  39.000000  41.000000  33.000000  113.000000"
      ]
     },
     "execution_count": 16,
     "metadata": {},
     "output_type": "execute_result"
    }
   ],
   "source": [
    "#df.describe() : it will give the numerical/statistical summary of your data-frame\n",
    "df.describe()"
   ]
  },
  {
   "cell_type": "markdown",
   "id": "db2af9b1",
   "metadata": {},
   "source": [
    "#### 9.DESCRIPTION OR INFO ABOUT OBJECT TYPE DATA-TYPES"
   ]
  },
  {
   "cell_type": "code",
   "execution_count": 17,
   "id": "a75b12a0",
   "metadata": {},
   "outputs": [
    {
     "data": {
      "text/html": [
       "<div>\n",
       "<style scoped>\n",
       "    .dataframe tbody tr th:only-of-type {\n",
       "        vertical-align: middle;\n",
       "    }\n",
       "\n",
       "    .dataframe tbody tr th {\n",
       "        vertical-align: top;\n",
       "    }\n",
       "\n",
       "    .dataframe thead th {\n",
       "        text-align: right;\n",
       "    }\n",
       "</style>\n",
       "<table border=\"1\" class=\"dataframe\">\n",
       "  <thead>\n",
       "    <tr style=\"text-align: right;\">\n",
       "      <th></th>\n",
       "      <th>Country</th>\n",
       "    </tr>\n",
       "  </thead>\n",
       "  <tbody>\n",
       "    <tr>\n",
       "      <th>count</th>\n",
       "      <td>93</td>\n",
       "    </tr>\n",
       "    <tr>\n",
       "      <th>unique</th>\n",
       "      <td>93</td>\n",
       "    </tr>\n",
       "    <tr>\n",
       "      <th>top</th>\n",
       "      <td>United States</td>\n",
       "    </tr>\n",
       "    <tr>\n",
       "      <th>freq</th>\n",
       "      <td>1</td>\n",
       "    </tr>\n",
       "  </tbody>\n",
       "</table>\n",
       "</div>"
      ],
      "text/plain": [
       "              Country\n",
       "count              93\n",
       "unique             93\n",
       "top     United States\n",
       "freq                1"
      ]
     },
     "execution_count": 17,
     "metadata": {},
     "output_type": "execute_result"
    }
   ],
   "source": [
    "df.describe(include = 'object')"
   ]
  },
  {
   "cell_type": "markdown",
   "id": "96dbb004",
   "metadata": {},
   "source": [
    "#### 10.CHANGING ROW INDEX NAME TO NEW INDEX"
   ]
  },
  {
   "cell_type": "code",
   "execution_count": 18,
   "id": "4f890b72",
   "metadata": {},
   "outputs": [
    {
     "name": "stdout",
     "output_type": "stream",
     "text": [
      "    Rank        Country  Gold  Silver  Bronze  Total\n",
      "0      1  United States    39      41      33    113\n",
      "1      2          China    38      32      18     88\n",
      "2      3          Japan    27      14      17     58\n",
      "3      4  Great Britain    22      21      22     65\n",
      "4      5            ROC    20      28      23     71\n",
      "..   ...            ...   ...     ...     ...    ...\n",
      "88    86          Ghana     0       0       1      1\n",
      "89    86        Grenada     0       0       1      1\n",
      "90    86         Kuwait     0       0       1      1\n",
      "91    86        Moldova     0       0       1      1\n",
      "92    86          Syria     0       0       1      1\n",
      "\n",
      "[93 rows x 6 columns]\n",
      "\n",
      "               Rank  Gold  Silver  Bronze  Total\n",
      "Country                                         \n",
      "United States     1    39      41      33    113\n",
      "China             2    38      32      18     88\n",
      "Japan             3    27      14      17     58\n",
      "Great Britain     4    22      21      22     65\n",
      "ROC               5    20      28      23     71\n",
      "...             ...   ...     ...     ...    ...\n",
      "Ghana            86     0       0       1      1\n",
      "Grenada          86     0       0       1      1\n",
      "Kuwait           86     0       0       1      1\n",
      "Moldova          86     0       0       1      1\n",
      "Syria            86     0       0       1      1\n",
      "\n",
      "[93 rows x 5 columns]\n"
     ]
    }
   ],
   "source": [
    "#original df has row index as no 0,1,2,3,.... before\n",
    "print(df)\n",
    "print()\n",
    "\n",
    "#df.set_index('column_name_to_be_used_as_indexed'): it will convert the row index as a mention column name\n",
    "#after applying this our df will look like as shown below\n",
    "a = df.set_index('Country')\n",
    "print(a)"
   ]
  },
  {
   "cell_type": "markdown",
   "id": "cad519a8",
   "metadata": {},
   "source": [
    "**NOTE:**\n",
    "1. WE CAN NOW ACCESS THE REQUIRED VALUE USING THE NEW SET INDEXED VALUES\n",
    "\n",
    "2. WE CAN ALSO ACCESS VALUE USING INDEXED NO TO ORIGINAL DATA FRAME ALSO\n",
    "\n",
    "**refer below eg to get things clear**"
   ]
  },
  {
   "cell_type": "code",
   "execution_count": 27,
   "id": "a8375c42",
   "metadata": {},
   "outputs": [
    {
     "name": "stdout",
     "output_type": "stream",
     "text": [
      "Rank      11\n",
      "Gold       7\n",
      "Silver     6\n",
      "Bronze    11\n",
      "Total     24\n",
      "Name: Canada, dtype: int64\n",
      "\n",
      "Canada\n"
     ]
    }
   ],
   "source": [
    "# '10' as Ranks is starting from one(1)\n",
    "print(a.iloc[10])\n",
    "print()\n",
    "\n",
    "# # '9' as Ranks is starting from zero(0)\n",
    "print(df['Country'][10])"
   ]
  },
  {
   "cell_type": "markdown",
   "id": "00f7bf2f",
   "metadata": {},
   "source": [
    "#### 11.ACCESSING ALL THE COLUMN NAMES HEADING"
   ]
  },
  {
   "cell_type": "code",
   "execution_count": null,
   "id": "ed7642d3",
   "metadata": {},
   "outputs": [],
   "source": [
    "#df.columns : it will give the list of all the column name in our original data-frame df\n",
    "print(df.columns)\n",
    "print()\n",
    "\n",
    "#df.keys() : it can also be used to access all the column name\n",
    "print(df.keys())"
   ]
  },
  {
   "cell_type": "markdown",
   "id": "4ad660da",
   "metadata": {},
   "source": [
    "#### 12.DROPPING A PARTICULAR COLUMN FROM DATA-FRAME"
   ]
  },
  {
   "cell_type": "code",
   "execution_count": null,
   "id": "257ca16d",
   "metadata": {},
   "outputs": [],
   "source": [
    "#df.drop('col_name',axis=k,inplace=True/False): this will drop a particular col mentioned. the axis of col/row should be mention\n",
    "#the inplace parameter will decide whether we have to delete from our og data frame if inplace= true\n",
    "df.drop('Total',axis=1)"
   ]
  },
  {
   "cell_type": "markdown",
   "id": "b6c89bc1",
   "metadata": {},
   "source": [
    "# WHY USE OF df.iloc() & df.loc() "
   ]
  },
  {
   "cell_type": "code",
   "execution_count": null,
   "id": "0a8b80e2",
   "metadata": {},
   "outputs": [],
   "source": [
    "data = pd.Series(['a1','a2','a3','a4','a5'],index=[5,4,3,2,1])\n",
    "print(data)\n",
    "print()\n",
    "\n",
    "#here implicit index/position index is 0,1,2,3,4\n",
    "#explicit index is 5,4,3,2,1\n",
    "\n",
    "#note1: when we index a particular value it uses explicit index as shown below\n",
    "print('Get a3 : ',data[3],sep='\\n')\n",
    "print()\n",
    "\n",
    "#note2: when we want to slice a particular values it uses position instead of explicit index.\n",
    "print('Get a2, a3, a4 : ',data[1:4],sep='\\n')\n",
    "print()\n",
    "\n",
    "#since ther will be confusion that which to use when.\n",
    "#therefor, loc(explicit) & iloc(implicit /positional indexing) was created\n",
    "print('Get a2 using iloc() : ',data.iloc[1],sep='\\n')\n",
    "print()\n",
    "print('Get a2 using loc() : ',data.loc[4],sep='\\n')"
   ]
  },
  {
   "cell_type": "markdown",
   "id": "85a2253e",
   "metadata": {},
   "source": [
    "**Note :**\n",
    "\n",
    "LOC : labels or explicit index\n",
    "\n",
    "ILOC : positional or implicit indexing"
   ]
  },
  {
   "cell_type": "markdown",
   "id": "41b504f1",
   "metadata": {},
   "source": [
    "#### 13.USE OF ILOC()"
   ]
  },
  {
   "cell_type": "code",
   "execution_count": null,
   "id": "d9d64353",
   "metadata": {},
   "outputs": [],
   "source": [
    "a"
   ]
  },
  {
   "cell_type": "code",
   "execution_count": null,
   "id": "69df2fff",
   "metadata": {},
   "outputs": [],
   "source": [
    "#df.iloc(): it will access a particular element using positon\n",
    "#suppose we want to access \"Total of 88 medals\"\n",
    "print(\"Total of '88' medals\",a.iloc[1][4],sep='\\n')\n",
    "print()\n",
    "\n",
    "#slicing using iloc :-- suppose we want to access \"Total of 88,58,65,71 medals\"\n",
    "#while using iloc, use df.iloc[row:range, col:range] convention\n",
    "print(\"Total of 88,58,65,71 medals using iloc() : \",a.iloc[1:5,4],sep='\\n' )"
   ]
  },
  {
   "cell_type": "markdown",
   "id": "3a557fbf",
   "metadata": {},
   "source": [
    "#### 14.USE OF LOC()"
   ]
  },
  {
   "cell_type": "code",
   "execution_count": null,
   "id": "682c0a93",
   "metadata": {},
   "outputs": [],
   "source": [
    "# loc will include 'loc(start,end)' end value also\n",
    "#df.loc(): it will access a particular element using index which are given\n",
    "#suppose we want to access \"Total of 88 medals\"\n",
    "print(\"Total of 88 medals\",a.loc['China'][4],sep='\\n')\n",
    "print()\n",
    "\n",
    "#slicing using loc :-- suppose we want to access \"Total of 88,58,65,71 medals\"\n",
    "#while using loc, use df.loc[row:range, col:range] convention\n",
    "print(\"Total of 88,58,65,71 medals using loc() : \",a.loc['China':'ROC']['Total'],sep='\\n' )"
   ]
  },
  {
   "cell_type": "markdown",
   "id": "1c3681d0",
   "metadata": {},
   "source": [
    "#### 15.GETTING COLUMN HEADINGS OR KEYS"
   ]
  },
  {
   "cell_type": "code",
   "execution_count": null,
   "id": "63786e66",
   "metadata": {},
   "outputs": [],
   "source": [
    "#DF.KEYS() OR DF.COLUMNS() : both work similar & will return all the column name or keys.\n",
    "print('using df.keys : ',df.keys(),sep='\\n\\t')\n",
    "print('~'*50)\n",
    "print('using df.columns : ',df.columns,sep='\\n\\t')\n",
    "\n",
    "\n"
   ]
  },
  {
   "cell_type": "markdown",
   "id": "d99d58b9",
   "metadata": {},
   "source": [
    "#### 16.GETTING VALUES TO BE PRINTED"
   ]
  },
  {
   "cell_type": "code",
   "execution_count": null,
   "id": "a65ec82a",
   "metadata": {},
   "outputs": [],
   "source": [
    "#DF.VALUES() : it'll return array of all the values in a data frame\n",
    "#it will return homogenous type of data-type called object althouh all the individual values may be heterogenous\n",
    "print(df.values,sep=',',end=',')"
   ]
  },
  {
   "cell_type": "markdown",
   "id": "24bb6e1e",
   "metadata": {},
   "source": [
    "#### 17.ACCESSING SPECIFIC MULTIPLE ROWS OF DATA-FRAME"
   ]
  },
  {
   "cell_type": "code",
   "execution_count": null,
   "id": "0c655520",
   "metadata": {},
   "outputs": [],
   "source": [
    "#suppose we want to access china,syria,kuwait entir rows\n",
    "print(a)\n",
    "print()\n",
    "\n",
    "#using loc():\n",
    "print('#using loc(): ',a.loc[['China','Kuwait','Syria']],sep='\\n')\n",
    "print()\n",
    "\n",
    "#using iloc():\n",
    "print('#using iloc(): ',a.iloc[[2,90,92]],sep='\\n')"
   ]
  },
  {
   "cell_type": "markdown",
   "id": "e2a8da11",
   "metadata": {},
   "source": [
    "**Note:**\n",
    "\n",
    "1. Note we can access using negative index using i loc as we used to access in python\n",
    "\n",
    "2. negative indexing may not work in iloc as there are chances that column has no -ve value to be access as index"
   ]
  },
  {
   "cell_type": "markdown",
   "id": "6ee36036",
   "metadata": {},
   "source": [
    "#### 18.GETTING A CONDITIONAL BASED BOOLEAN COLUMN"
   ]
  },
  {
   "cell_type": "code",
   "execution_count": null,
   "id": "95b62148",
   "metadata": {},
   "outputs": [],
   "source": [
    "#suppose we want to access 'total no of medal >= 50'   for all the country\n",
    "df['Total'] >= 50"
   ]
  },
  {
   "cell_type": "markdown",
   "id": "ab0d5a23",
   "metadata": {},
   "source": [
    "#### 19.USING ABOVE CONDn AND FILTERING VALUES ON CONDn BASIS"
   ]
  },
  {
   "cell_type": "code",
   "execution_count": null,
   "id": "b5fa82e3",
   "metadata": {},
   "outputs": [],
   "source": [
    "print(df[df['Total'] >= 50])\n",
    "print()\n",
    "print(df.loc[df['Total'] >= 50])\n",
    "print()\n",
    "\n",
    "#Note: df.iloc[df['Total'] >= 50] : it won't work as we are using iloc\n",
    "#its better to use loc for filtering out the required condition"
   ]
  },
  {
   "cell_type": "markdown",
   "id": "bb15d000",
   "metadata": {},
   "source": [
    "#### 20.USING MULTIPLE CONDn AND FILTERING VALUES ON CONDn BASIS"
   ]
  },
  {
   "cell_type": "code",
   "execution_count": null,
   "id": "260f62bf",
   "metadata": {},
   "outputs": [],
   "source": [
    "# IF WE WANT TO GET COUNTRY WITH GOLD > 30 & tOTAL > 50\n",
    "print(df.loc[(df['Total'] >= 50) & (df[\"Gold\"] >= 30)])\n",
    "print()\n",
    "\n",
    "# IF WE WANT TO GET COUNTRY WITH 20 < BRONZE < 50 &  30 < Silver < 50\n",
    "print(df.loc[((df['Silver'] < 50) & (df['Silver'] > 30)) & ((df['Bronze']) < 50) & ((df['Bronze']) > 20)])"
   ]
  },
  {
   "cell_type": "markdown",
   "id": "baed6707",
   "metadata": {},
   "source": [
    "#### 21.USING CONDn AND APPLYING STATISTICS ON CONDn BASIS"
   ]
  },
  {
   "cell_type": "code",
   "execution_count": null,
   "id": "342f0d42",
   "metadata": {},
   "outputs": [],
   "source": [
    "# IF WE WANT TO GET COUNTRY WITH GOLD > 30 & tOTAL > 50 AND ALSO AVERAGE OF THE TOTAL MEDALS OF THAT COUNTRY\n",
    "k1 = df[(df['Total'] >= 50) & (df[\"Gold\"] >= 30)]\n",
    "print(k1)\n",
    "print()\n",
    "\n",
    "print(np.average(k1['Total']))\n",
    "print()\n",
    "\n",
    "print(df.loc[(df['Total'] >= 50) & (df[\"Gold\"] >= 30),\"Total\"])\n",
    "print()\n",
    "\n",
    "print(df.loc[(df['Total'] >= 50) & (df[\"Gold\"] >= 30),\"Total\"].mean())"
   ]
  },
  {
   "cell_type": "code",
   "execution_count": null,
   "id": "eaa464d5",
   "metadata": {},
   "outputs": [],
   "source": []
  }
 ],
 "metadata": {
  "kernelspec": {
   "display_name": "Python 3 (ipykernel)",
   "language": "python",
   "name": "python3"
  },
  "language_info": {
   "codemirror_mode": {
    "name": "ipython",
    "version": 3
   },
   "file_extension": ".py",
   "mimetype": "text/x-python",
   "name": "python",
   "nbconvert_exporter": "python",
   "pygments_lexer": "ipython3",
   "version": "3.11.2"
  }
 },
 "nbformat": 4,
 "nbformat_minor": 5
}
